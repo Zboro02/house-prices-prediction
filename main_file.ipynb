{
 "cells": [
  {
   "cell_type": "code",
   "execution_count": 79,
   "metadata": {},
   "outputs": [],
   "source": [
    "import pandas as pd\n",
    "import matplotlib.pyplot as plt\n",
    "import seaborn as sns\n",
    "from sklearn.preprocessing import MinMaxScaler\n",
    "\n",
    "import torch\n",
    "import torch.nn as nn\n",
    "import torch.optim as optim\n",
    "from torch.utils.data import DataLoader, TensorDataset\n",
    "\n",
    "from sklearn.metrics import mean_squared_error\n",
    "import numpy as np\n",
    "\n",
    "from sklearn.metrics import r2_score"
   ]
  },
  {
   "cell_type": "code",
   "execution_count": 80,
   "metadata": {},
   "outputs": [],
   "source": [
    "train_df = pd.read_csv(\"Data/train.csv\")\n",
    "test_df = pd.read_csv(\"Data/test.csv\")"
   ]
  },
  {
   "cell_type": "code",
   "execution_count": 81,
   "metadata": {},
   "outputs": [],
   "source": [
    "missing_values_train = train_df.isnull().sum() / len(train_df) * 100\n",
    "missing_values_test = test_df.isnull().sum() / len(test_df) * 100\n",
    "\n",
    "cols_to_drop = set(missing_values_train[missing_values_train > 50].index)\n",
    "cols_to_drop.update({'Id', 'LandContour', 'LotConfig', 'LotFrontage', 'Street', 'LotShape', 'LandSlope', 'YearBuilt', 'RoofStyle', 'RoofMatl', \n",
    "                     'Exterior1st', 'Exterior2nd', 'MasVnrArea', 'Foundation', 'BsmtQual', 'BsmtCond', 'BsmtExposure', \n",
    "                     'BsmtFinType1', 'BsmtFinSF1', 'BsmtFinType2', 'BsmtFinSF2', 'BsmtUnfSF', 'TotalBsmtSF', 'Heating', \n",
    "                     'Electrical', 'LowQualFinSF', 'GrLivArea', 'BsmtFullBath', 'BsmtHalfBath', 'FullBath', 'HalfBath', \n",
    "                     'Fireplaces', 'FireplaceQu', 'GarageType', 'GarageYrBlt', 'GarageCars', 'PavedDrive', 'WoodDeckSF', \n",
    "                     '3SsnPorch', 'PoolArea', 'MiscVal', 'MoSold', 'SaleType', 'SaleCondition', 'Condition1', 'Condition2','HouseStyle'})\n",
    "\n",
    "train_df.drop(columns=cols_to_drop, inplace=True)\n",
    "\n",
    "cols_to_drop = set(missing_values_test[missing_values_test > 50].index)\n",
    "cols_to_drop.update({'Id', 'LandContour', 'LotConfig', 'LotFrontage', 'Street', 'LotShape', 'LandSlope', 'YearBuilt', 'RoofStyle', 'RoofMatl', \n",
    "                     'Exterior1st', 'Exterior2nd', 'MasVnrArea', 'Foundation', 'BsmtQual', 'BsmtCond', 'BsmtExposure', \n",
    "                     'BsmtFinType1', 'BsmtFinSF1', 'BsmtFinType2', 'BsmtFinSF2', 'BsmtUnfSF', 'TotalBsmtSF', 'Heating', \n",
    "                     'Electrical', 'LowQualFinSF', 'GrLivArea', 'BsmtFullBath', 'BsmtHalfBath', 'FullBath', 'HalfBath', \n",
    "                     'Fireplaces', 'FireplaceQu', 'GarageType', 'GarageYrBlt', 'GarageCars', 'PavedDrive', 'WoodDeckSF', \n",
    "                     '3SsnPorch', 'PoolArea', 'MiscVal', 'MoSold', 'SaleType', 'SaleCondition', 'Condition1', 'Condition2','HouseStyle'})\n",
    "\n",
    "test_df.drop(columns=cols_to_drop, inplace=True)\n",
    "\n",
    "def encode_quality_df(df):\n",
    "    # Funkcja zamienia wartości jakościowe na liczby w całym DataFrame.\n",
    "    mapping = {'Ex': 5, 'Gd': 4, 'TA': 3, 'Fa': 2, 'Po': 1, 'NA': 0, \n",
    "               'AllPub': 3, 'NoSewr': 2, 'NoSeWa': 1, 'ELO': 0, \n",
    "               'N': 0, 'Y': 1, 'Fin': 3, 'RFn': 2, 'Unf': 1, \n",
    "               'Typ': 5, 'Min1': 4, 'Min2': 4, 'Mod': 3, 'Maj1': 2, 'Maj2': 2, 'Sev': 1, 'Sal': 0}\n",
    "    return df.replace(mapping).fillna(0)\n",
    "    \n",
    "\n",
    "ms_subclass_mapping = {\n",
    "    20: \"1-STORY 1946 & NEWER ALL STYLES\",\n",
    "    30: \"1-STORY 1945 & OLDER\",\n",
    "    40: \"1-STORY W/FINISHED ATTIC ALL AGES\",\n",
    "    45: \"1-1/2 STORY - UNFINISHED ALL AGES\",\n",
    "    50: \"1-1/2 STORY FINISHED ALL AGES\",\n",
    "    60: \"2-STORY 1946 & NEWER\",\n",
    "    70: \"2-STORY 1945 & OLDER\",\n",
    "    75: \"2-1/2 STORY ALL AGES\",\n",
    "    80: \"SPLIT OR MULTI-LEVEL\",\n",
    "    85: \"SPLIT FOYER\",\n",
    "    90: \"DUPLEX - ALL STYLES AND AGES\",\n",
    "    120: \"1-STORY PUD (Planned Unit Development) - 1946 & NEWER\",\n",
    "    150: \"1-1/2 STORY PUD - ALL AGES\",\n",
    "    160: \"2-STORY PUD - 1946 & NEWER\",\n",
    "    180: \"PUD - MULTILEVEL - INCL SPLIT LEV/FOYER\",\n",
    "    190: \"2 FAMILY CONVERSION - ALL STYLES AND AGES\"\n",
    "}\n",
    "train_df[\"MSSubClass\"] = train_df[\"MSSubClass\"].map(ms_subclass_mapping)\n",
    "test_df[\"MSSubClass\"] = test_df[\"MSSubClass\"].map(ms_subclass_mapping)\n",
    "\n",
    "# print(\"Usunięte kolumny: \", list(cols_to_drop))\n",
    "train_df = encode_quality_df(train_df)\n",
    "train_df = pd.get_dummies(train_df, columns=['MSZoning'], dtype=int)\n",
    "train_df = pd.get_dummies(train_df, columns=['BldgType'], dtype=int)\n",
    "train_df = pd.get_dummies(train_df, columns=['Neighborhood'], dtype=int)\n",
    "train_df = pd.get_dummies(train_df, columns=['MSSubClass'], dtype=int)\n",
    "\n",
    "test_df = encode_quality_df(test_df)\n",
    "test_df = pd.get_dummies(test_df, columns=['MSZoning'], dtype=int)\n",
    "test_df = pd.get_dummies(test_df, columns=['BldgType'], dtype=int)\n",
    "test_df = pd.get_dummies(test_df, columns=['Neighborhood'], dtype=int)\n",
    "test_df = pd.get_dummies(test_df, columns=['MSSubClass'], dtype=int)\n",
    "\n",
    "# Po get_dummies na train_df i test_df\n",
    "train_columns = train_df.columns\n",
    "test_df = test_df.reindex(columns=train_columns, fill_value=0)\n",
    "\n",
    "\n",
    "target_col = 'SalePrice'\n",
    "x = train_df.drop(columns=[target_col])\n",
    "y = train_df[target_col]\n",
    "\n",
    "scaler = MinMaxScaler()\n",
    "x_train = pd.DataFrame(scaler.fit_transform(x), columns=x.columns)\n",
    "x_test = pd.DataFrame(scaler.transform(test_df.drop(columns=[target_col], errors='ignore')), columns=x.columns)"
   ]
  },
  {
   "cell_type": "code",
   "execution_count": 82,
   "metadata": {},
   "outputs": [],
   "source": [
    "corr_matrix = train_df.corr()\n",
    "\n",
    "plt.figure(figsize=(35, 35))\n",
    "sns.heatmap(corr_matrix, annot=True, fmt=\".2f\", cmap='coolwarm', square=True, cbar_kws={\"shrink\": .8})\n",
    "plt.title('Macierz korelacji')\n",
    "plt.tight_layout()\n",
    "plt.show()\n",
    "print(corr_matrix)"
   ]
  },
  {
   "cell_type": "code",
   "execution_count": 83,
   "metadata": {},
   "outputs": [],
   "source": [
    "print(x_train)\n",
    "print(x_test)"
   ]
  },
  {
   "cell_type": "code",
   "execution_count": 84,
   "metadata": {},
   "outputs": [],
   "source": [
    "# Zamień dane na tensory\n",
    "x = torch.tensor(x_train.values, dtype=torch.float32)\n",
    "y = torch.tensor(y.values, dtype=torch.float32).view(-1, 1)  # view(-1, 1) żeby mieć kolumnę\n",
    "\n",
    "# Podziel dane na zestaw treningowy i walidacyjny (opcjonalnie)\n",
    "from sklearn.model_selection import train_test_split\n",
    "\n",
    "X_train, X_val, y_train, y_val = train_test_split(x, y, test_size=0.2, random_state=42)\n",
    "\n",
    "# Zrób DataLoader'y\n",
    "train_dataset = TensorDataset(X_train, y_train)\n",
    "val_dataset = TensorDataset(X_val, y_val)\n",
    "\n",
    "train_loader = DataLoader(train_dataset, batch_size=32, shuffle=True)\n",
    "val_loader = DataLoader(val_dataset, batch_size=32)\n"
   ]
  },
  {
   "cell_type": "code",
   "execution_count": 85,
   "metadata": {},
   "outputs": [],
   "source": [
    "class RegressionModel(nn.Module):\n",
    "    def __init__(self, input_dim):\n",
    "        super(RegressionModel, self).__init__()\n",
    "        self.net = nn.Sequential(\n",
    "            nn.Linear(input_dim, 128),\n",
    "            nn.ReLU(),\n",
    "            nn.Linear(128, 64),\n",
    "            nn.ReLU(),\n",
    "            nn.Linear(64, 1)\n",
    "        )\n",
    "        \n",
    "    def forward(self, x):\n",
    "        return self.net(x)\n",
    "\n",
    "# Utwórz model\n",
    "input_dim = x.shape[1]  # liczba kolumn w x\n",
    "model = RegressionModel(input_dim)\n"
   ]
  },
  {
   "cell_type": "code",
   "execution_count": 86,
   "metadata": {},
   "outputs": [],
   "source": [
    "criterion = nn.MSELoss()\n",
    "optimizer = optim.Adam(model.parameters(), lr=0.001)"
   ]
  },
  {
   "cell_type": "code",
   "execution_count": 87,
   "metadata": {},
   "outputs": [],
   "source": [
    "num_epochs = 3200\n",
    "for epoch in range(num_epochs):\n",
    "    model.train()\n",
    "    running_loss = 0.0\n",
    "    for batch_X, batch_y in train_loader:\n",
    "        optimizer.zero_grad()\n",
    "        outputs = model(batch_X)\n",
    "        loss = criterion(outputs, batch_y)\n",
    "        loss.backward()\n",
    "        optimizer.step()\n",
    "        running_loss += loss.item()\n",
    "    \n",
    "    # Ewaluacja na walidacji\n",
    "    model.eval()\n",
    "    val_loss = 0.0\n",
    "    with torch.no_grad():\n",
    "        for val_X, val_y in val_loader:\n",
    "            val_outputs = model(val_X)\n",
    "            v_loss = criterion(val_outputs, val_y)\n",
    "            val_loss += v_loss.item()\n",
    "    \n",
    "    print(f\"Epoch {epoch+1}/{num_epochs}, Train Loss: {running_loss/len(train_loader):.4f}, Val Loss: {val_loss/len(val_loader):.4f}\")\n"
   ]
  },
  {
   "cell_type": "code",
   "execution_count": 88,
   "metadata": {},
   "outputs": [],
   "source": [
    "model.eval()\n",
    "with torch.no_grad():\n",
    "    test_preds = model(torch.tensor(x_test.values, dtype=torch.float32))"
   ]
  },
  {
   "cell_type": "code",
   "execution_count": 89,
   "metadata": {},
   "outputs": [],
   "source": [
    "# Use the original test data to retrieve the 'Id' column\n",
    "original_test_df = pd.read_csv(\"Data/test.csv\")  # Reload the original test data to get the 'Id' column\n",
    "\n",
    "submission_df = pd.DataFrame({\n",
    "    'Id': original_test_df['Id'],  # Use the 'Id' column from the original test data\n",
    "    'SalePrice': test_preds.flatten()\n",
    "})\n",
    "\n",
    "submission_df.to_csv('submission.csv', index=False)"
   ]
  },
  {
   "cell_type": "code",
   "execution_count": 92,
   "metadata": {},
   "outputs": [
    {
     "name": "stdout",
     "output_type": "stream",
     "text": [
      "Mean Squared Error (MSE): 757160192.0000\n",
      "Root Mean Squared Error (RMSE): 27516.5440\n",
      "R² Score: 0.9013\n"
     ]
    }
   ],
   "source": [
    "# Włącz tryb oceny modelu\n",
    "model.eval()\n",
    "\n",
    "# Przewidywanie na danych walidacyjnych\n",
    "with torch.no_grad():\n",
    "    val_preds = model(X_val)\n",
    "\n",
    "# Oblicz MSE (Mean Squared Error)\n",
    "mse = mean_squared_error(y_val.numpy(), val_preds.numpy())\n",
    "\n",
    "# Oblicz RMSE (Root Mean Squared Error)\n",
    "rmse = np.sqrt(mse)\n",
    "\n",
    "r2 = r2_score(y_val.numpy(), val_preds.numpy())\n",
    "\n",
    "print(f\"Mean Squared Error (MSE): {mse:.4f}\")\n",
    "print(f\"Root Mean Squared Error (RMSE): {rmse:.4f}\")\n",
    "print(f\"R² Score: {r2:.4f}\")"
   ]
  },
  {
   "cell_type": "code",
   "execution_count": 91,
   "metadata": {},
   "outputs": [],
   "source": [
    "# Tworzenie wykresu\n",
    "plt.scatter(y_val.numpy(), val_preds.numpy(), color='blue', alpha=0.5)\n",
    "plt.plot([min(y_val.numpy()), max(y_val.numpy())], [min(y_val.numpy()), max(y_val.numpy())], color='red', linestyle='--')\n",
    "plt.xlabel(\"Prawdziwe wartości\")\n",
    "plt.ylabel(\"Przewidywane wartości\")\n",
    "plt.title(\"Prawdziwe vs Przewidywane wartości\")\n",
    "plt.show()"
   ]
  }
 ],
 "metadata": {
  "kernelspec": {
   "display_name": "Python 3",
   "language": "python",
   "name": "python3"
  },
  "language_info": {
   "codemirror_mode": {
    "name": "ipython",
    "version": 3
   },
   "file_extension": ".py",
   "mimetype": "text/x-python",
   "name": "python",
   "nbconvert_exporter": "python",
   "pygments_lexer": "ipython3",
   "version": "3.11.9"
  }
 },
 "nbformat": 4,
 "nbformat_minor": 2
}
